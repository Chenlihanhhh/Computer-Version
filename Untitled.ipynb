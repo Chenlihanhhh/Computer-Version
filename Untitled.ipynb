{
 "cells": [
  {
   "cell_type": "code",
   "execution_count": 1,
   "id": "12483e63",
   "metadata": {},
   "outputs": [],
   "source": [
    "#import libraries\n",
    "import os\n",
    "import numpy as np\n",
    "#from keras.models import Sequential\n",
    "import numpy as np\n",
    "from keras.models import Model\n",
    "from keras.layers import Input, Conv2D, MaxPooling2D, Flatten,concatenate,GlobalAveragePooling2D, Reshape, Dense, multiply, Lambda, Dropout\n",
    "from keras.preprocessing.image import ImageDataGenerator\n",
    "from tensorflow.keras import layers\n",
    "import matplotlib.pyplot as plt\n",
    "from tensorflow.keras.optimizers import Adam\n",
    "import keras.backend as K\n",
    "import tensorflow as tf"
   ]
  },
  {
   "cell_type": "code",
   "execution_count": 2,
   "id": "3317f205",
   "metadata": {},
   "outputs": [],
   "source": [
    "# Data preparation\n",
    "dataset_dir= r'D:\\桌面\\PlantVillage'\n",
    "input_shape=(224, 224, 3)\n",
    "batch_size=4\n",
    "num_classes=2"
   ]
  },
  {
   "cell_type": "code",
   "execution_count": 3,
   "id": "8454b786",
   "metadata": {},
   "outputs": [],
   "source": [
    "#Data augmentation\n",
    "train_datagen=ImageDataGenerator(\n",
    "    rescale=1./255,\n",
    "    shear_range=0.2,\n",
    "    zoom_range=0.2,\n",
    "    horizontal_flip=True,\n",
    "    validation_split=0.2\n",
    ")"
   ]
  },
  {
   "cell_type": "code",
   "execution_count": 5,
   "id": "f2a48fdf",
   "metadata": {},
   "outputs": [
    {
     "name": "stdout",
     "output_type": "stream",
     "text": [
      "Found 33027 images belonging to 16 classes.\n",
      "Found 8249 images belonging to 16 classes.\n",
      "Found 41276 images belonging to 16 classes.\n"
     ]
    }
   ],
   "source": [
    "test_datagen = ImageDataGenerator(rescale=1.0/255)\n",
    "\n",
    "#Generate the train dataset, validation dataset and test dataset\n",
    "train_generator=train_datagen.flow_from_directory(\n",
    "    os.path.join(dataset_dir, 'train'),\n",
    "    target_size=input_shape[:2],\n",
    "    batch_size=batch_size,\n",
    "    class_mode='categorical',\n",
    "    subset='training')\n",
    "\n",
    "validation_generator=train_datagen.flow_from_directory(\n",
    "    os.path.join(dataset_dir, 'train'),\n",
    "    target_size=input_shape[:2],\n",
    "    batch_size=batch_size,\n",
    "    class_mode='categorical', \n",
    "    subset='validation')\n",
    "\n",
    "test_generator=test_datagen.flow_from_directory(\n",
    "    os.path.join(dataset_dir, 'test'),\n",
    "    target_size=input_shape[:2],\n",
    "    batch_size=batch_size,\n",
    "    class_mode='categorical' \n",
    ")"
   ]
  },
  {
   "cell_type": "code",
   "execution_count": 6,
   "id": "5ba54a6c",
   "metadata": {},
   "outputs": [],
   "source": [
    "def create_model1(input_shape):\n",
    "    inputs = Input(shape=input_shape)\n",
    "    conv1 = Conv2D(32, (3, 3), activation='relu')(inputs)\n",
    "    pool1 = MaxPooling2D(pool_size=(2, 2))(conv1)\n",
    "    model = Model(inputs=inputs, outputs=pool1)\n",
    "    return model"
   ]
  },
  {
   "cell_type": "code",
   "execution_count": 7,
   "id": "18469c20",
   "metadata": {},
   "outputs": [],
   "source": [
    "def create_model2(input_shape):\n",
    "    inputs = Input(shape=input_shape)\n",
    "    conv1 = Conv2D(32, (3, 3), activation='relu')(inputs)\n",
    "    pool1 = MaxPooling2D(pool_size=(2, 2))(conv1)\n",
    "    model = Model(inputs=inputs, outputs=pool1)\n",
    "    return model"
   ]
  },
  {
   "cell_type": "code",
   "execution_count": 8,
   "id": "72b60c79",
   "metadata": {},
   "outputs": [],
   "source": [
    "def create_ensemble_model(input_shape):\n",
    "    input_layer = Input(shape=input_shape)\n",
    "\n",
    "    model1 = create_model1(input_shape)(input_layer)\n",
    "    model2 = create_model2(input_shape)(input_layer)\n",
    "\n",
    "    # Apply attention to model1\n",
    "    attention_weights = Dense(1, activation='softmax')(GlobalAveragePooling2D()(model1))\n",
    "    attention_applied = multiply([model1, attention_weights])\n",
    "\n",
    "    # Combine the attention-applied output and model2\n",
    "    merged = concatenate([attention_applied, model2])\n",
    "\n",
    "    # Global average pooling and dense layer\n",
    "    averge_pooling = GlobalAveragePooling2D()(merged)\n",
    "    output_layer = Dense(num_classes, activation='softmax')(averge_pooling)\n",
    "\n",
    "    model = Model(inputs=input_layer, outputs=output_layer)\n",
    "    return model"
   ]
  },
  {
   "cell_type": "code",
   "execution_count": 14,
   "id": "2a8a83d9",
   "metadata": {},
   "outputs": [],
   "source": [
    "# Define the input shape and number of classes\n",
    "input_shape = (224, 224, 3)\n",
    "num_classes = 16"
   ]
  },
  {
   "cell_type": "code",
   "execution_count": 15,
   "id": "6fd53649",
   "metadata": {},
   "outputs": [
    {
     "name": "stdout",
     "output_type": "stream",
     "text": [
      "Model: \"model_5\"\n",
      "__________________________________________________________________________________________________\n",
      " Layer (type)                   Output Shape         Param #     Connected to                     \n",
      "==================================================================================================\n",
      " input_4 (InputLayer)           [(None, 224, 224, 3  0           []                               \n",
      "                                )]                                                                \n",
      "                                                                                                  \n",
      " model_3 (Functional)           (None, 111, 111, 32  896         ['input_4[0][0]']                \n",
      "                                )                                                                 \n",
      "                                                                                                  \n",
      " global_average_pooling2d_2 (Gl  (None, 32)          0           ['model_3[0][0]']                \n",
      " obalAveragePooling2D)                                                                            \n",
      "                                                                                                  \n",
      " dense_2 (Dense)                (None, 1)            33          ['global_average_pooling2d_2[0][0\n",
      "                                                                 ]']                              \n",
      "                                                                                                  \n",
      " multiply_1 (Multiply)          (None, 111, 111, 32  0           ['model_3[0][0]',                \n",
      "                                )                                 'dense_2[0][0]']                \n",
      "                                                                                                  \n",
      " model_4 (Functional)           (None, 111, 111, 32  896         ['input_4[0][0]']                \n",
      "                                )                                                                 \n",
      "                                                                                                  \n",
      " concatenate_1 (Concatenate)    (None, 111, 111, 64  0           ['multiply_1[0][0]',             \n",
      "                                )                                 'model_4[0][0]']                \n",
      "                                                                                                  \n",
      " global_average_pooling2d_3 (Gl  (None, 64)          0           ['concatenate_1[0][0]']          \n",
      " obalAveragePooling2D)                                                                            \n",
      "                                                                                                  \n",
      " dense_3 (Dense)                (None, 16)           1040        ['global_average_pooling2d_3[0][0\n",
      "                                                                 ]']                              \n",
      "                                                                                                  \n",
      "==================================================================================================\n",
      "Total params: 2,865\n",
      "Trainable params: 2,865\n",
      "Non-trainable params: 0\n",
      "__________________________________________________________________________________________________\n"
     ]
    }
   ],
   "source": [
    "# Create the ensemble model\n",
    "ensemble_model = create_ensemble_model(input_shape)\n",
    "\n",
    "ensemble_model.summary()"
   ]
  },
  {
   "cell_type": "code",
   "execution_count": 16,
   "id": "0ad075a9",
   "metadata": {},
   "outputs": [],
   "source": [
    "# Compile and train the ensemble model\n",
    "ensemble_model.compile(loss='categorical_crossentropy', optimizer='adam', metrics=['accuracy'])"
   ]
  },
  {
   "cell_type": "code",
   "execution_count": null,
   "id": "887b679f",
   "metadata": {},
   "outputs": [
    {
     "name": "stdout",
     "output_type": "stream",
     "text": [
      "Epoch 1/5\n",
      "8257/8257 [==============================] - 391s 47ms/step - loss: 1.9245 - accuracy: 0.4979 - val_loss: 1.8465 - val_accuracy: 0.5065\n",
      "Epoch 2/5\n",
      "7899/8257 [===========================>..] - ETA: 12s - loss: 1.7639 - accuracy: 0.4950"
     ]
    }
   ],
   "source": [
    "#Train the model\n",
    "history=ensemble_model.fit(train_generator, epochs=5, validation_data=(validation_generator), verbose=1)"
   ]
  },
  {
   "cell_type": "code",
   "execution_count": null,
   "id": "02f2b5dd",
   "metadata": {},
   "outputs": [],
   "source": [
    "#Performance on test set\n",
    "test_loss, test_acc = ensemble_model.evaluate(test_generator)\n",
    "print('Test loss:', test_loss)\n",
    "print('Test accuracy:', test_acc)"
   ]
  },
  {
   "cell_type": "code",
   "execution_count": null,
   "id": "c11292e3",
   "metadata": {},
   "outputs": [],
   "source": [
    "from keras import backend as K\n",
    "import gc\n",
    "\n",
    "K.clear_session()\n",
    "gc.collect()\n",
    "\n",
    "del ensemble_model"
   ]
  },
  {
   "cell_type": "code",
   "execution_count": null,
   "id": "1e72dce1",
   "metadata": {},
   "outputs": [],
   "source": [
    "from numba import cuda\n",
    "\n",
    "cuda.select_device(0)\n",
    "cuda.close()"
   ]
  }
 ],
 "metadata": {
  "kernelspec": {
   "display_name": "Python 3 (ipykernel)",
   "language": "python",
   "name": "python3"
  },
  "language_info": {
   "codemirror_mode": {
    "name": "ipython",
    "version": 3
   },
   "file_extension": ".py",
   "mimetype": "text/x-python",
   "name": "python",
   "nbconvert_exporter": "python",
   "pygments_lexer": "ipython3",
   "version": "3.8.0"
  }
 },
 "nbformat": 4,
 "nbformat_minor": 5
}
