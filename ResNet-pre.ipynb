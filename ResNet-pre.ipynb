{
 "cells": [
  {
   "cell_type": "code",
   "execution_count": null,
   "id": "cc2ea3b2-cd76-484b-9799-e3091cbcbe68",
   "metadata": {},
   "outputs": [],
   "source": [
    "import os\n",
    "from keras.models import Model\n",
    "from keras.layers import Input, Conv2D, BatchNormalization, Activation, Add\n",
    "from keras.applications.resnet import ResNet50\n",
    "from keras.layers import GlobalAveragePooling2D, Dense, MaxPooling2D\n",
    "from keras.preprocessing.image import ImageDataGenerator\n",
    "import matplotlib.pyplot as plt"
   ]
  },
  {
   "cell_type": "code",
   "execution_count": null,
   "id": "a07e2519-f59c-415d-8227-57f7ac2f824c",
   "metadata": {},
   "outputs": [],
   "source": [
    "# Data preparation\n",
    "dataset_dir= 'TNB_split'\n",
    "input_shape=(224, 224, 3)\n",
    "batch_size=8\n",
    "num_classes=5"
   ]
  },
  {
   "cell_type": "code",
   "execution_count": null,
   "id": "abbe09dd-31be-4d06-8fd1-4a17733f019f",
   "metadata": {},
   "outputs": [],
   "source": [
    "#Data augmentation\n",
    "train_datagen=ImageDataGenerator(\n",
    "    rescale=1./255,\n",
    "    shear_range=0.2,\n",
    "    zoom_range=0.2,\n",
    "    horizontal_flip=True)\n",
    "\n",
    "test_datagen=ImageDataGenerator(\n",
    "    rescale=1./255)"
   ]
  },
  {
   "cell_type": "code",
   "execution_count": null,
   "id": "265373ea-fc98-4aa1-a68b-b456729a030f",
   "metadata": {},
   "outputs": [],
   "source": [
    "#Generate the train dataset, validation dataset and test dataset\n",
    "train_generator=train_datagen.flow_from_directory(\n",
    "    os.path.join(dataset_dir, 'train'),\n",
    "    target_size=input_shape[:2],\n",
    "    batch_size=batch_size,\n",
    "    class_mode='categorical', #skin has two classes: benign and malignant\n",
    "    )\n",
    "\n",
    "validation_generator=train_datagen.flow_from_directory(\n",
    "    os.path.join(dataset_dir, 'val'),\n",
    "    target_size=input_shape[:2],\n",
    "    batch_size=batch_size,\n",
    "    class_mode='categorical', #skin has two classes: benign and malignant\n",
    "    )\n",
    "\n",
    "test_generator=test_datagen.flow_from_directory(\n",
    "    os.path.join(dataset_dir, 'test'),\n",
    "    target_size=input_shape[:2],\n",
    "    batch_size=batch_size,\n",
    "    class_mode='categorical', #skin has two classes: benign and malignant\n",
    "    )"
   ]
  },
  {
   "cell_type": "code",
   "execution_count": null,
   "id": "38da6a2b-a737-4132-a53e-078cc9a66abf",
   "metadata": {},
   "outputs": [],
   "source": [
    "resnet_model = ResNet50(weights='imagenet', include_top=False, input_shape=(224, 224, 3))"
   ]
  },
  {
   "cell_type": "code",
   "execution_count": null,
   "id": "b47e84a6-e10a-42f1-a7b8-94f862a28f4b",
   "metadata": {},
   "outputs": [],
   "source": [
    "# Freeze the layers in the pre-trained models\n",
    "for layer in resnet_model.layers:\n",
    "    layer.trainable = False"
   ]
  },
  {
   "cell_type": "code",
   "execution_count": null,
   "id": "a4c29197-7278-4cb7-98cb-2256c384bb9b",
   "metadata": {},
   "outputs": [],
   "source": [
    "# create a new model and add the VGG base model\n",
    "model = Sequential()\n",
    "model.add(resnet_model)"
   ]
  },
  {
   "cell_type": "code",
   "execution_count": null,
   "id": "67b6d29c-5a7d-4519-b0fb-1294837583a8",
   "metadata": {},
   "outputs": [],
   "source": [
    "# Add additional layers for classification\n",
    "model.add(Flatten())\n",
    "model.add(Dense(256, activation='relu'))  # first FC layer\n",
    "model.add(Dense(5, activation='softmax'))  # second FC layer"
   ]
  },
  {
   "cell_type": "code",
   "execution_count": null,
   "id": "1974db5d-a93c-45d9-922e-a970da8f10c0",
   "metadata": {},
   "outputs": [],
   "source": [
    "#compile the model\n",
    "model.compile(loss='categorical_crossentropy', optimizer='adam', metrics=['accuracy'])"
   ]
  },
  {
   "cell_type": "code",
   "execution_count": null,
   "id": "9cf8be5e-8aca-4c08-aca9-51de173964ed",
   "metadata": {},
   "outputs": [],
   "source": [
    "model.summary()"
   ]
  },
  {
   "cell_type": "code",
   "execution_count": null,
   "id": "3cb7ea8e-ff2f-4fa9-96d5-e5fc62402981",
   "metadata": {},
   "outputs": [],
   "source": [
    "#Train the model\n",
    "history=model.fit(train_generator, epochs=20, validation_data=(validation_generator), verbose=1)"
   ]
  },
  {
   "cell_type": "code",
   "execution_count": null,
   "id": "c248fbb6-90ea-45b1-a514-7c421f132c87",
   "metadata": {},
   "outputs": [],
   "source": [
    "#Training accuracy and validation accuracy graph\n",
    "plt.figure(figsize=(8,8))\n",
    "plt.plot(history.history['accuracy'])\n",
    "plt.plot(history.history['val_accuracy'])\n",
    "plt.title('Model Accuracy')\n",
    "plt.xlabel('Epoch')\n",
    "plt.ylabel('Accuracy')\n",
    "plt.legend(['Training Accuracy', 'Validation Accuracy'], loc ='lower right')\n",
    "plt.show()"
   ]
  },
  {
   "cell_type": "code",
   "execution_count": null,
   "id": "e99bf26a-28bd-4e2a-a7cf-78954a30b831",
   "metadata": {},
   "outputs": [],
   "source": [
    "#Trainig loss and validation loss graph\n",
    "plt.figure(figsize=(8,8))\n",
    "plt.plot(history.history['loss'])\n",
    "plt.plot(history.history['val_loss'])\n",
    "plt.title('Model Loss')\n",
    "plt.xlabel('Epoch')\n",
    "plt.ylabel('Loss')\n",
    "plt.legend(['Training Loss', 'Validation Loss'], loc ='upper right')\n",
    "plt.show()"
   ]
  },
  {
   "cell_type": "code",
   "execution_count": null,
   "id": "daba4572-582c-48fc-9b27-ffbe91d819a5",
   "metadata": {},
   "outputs": [],
   "source": [
    "# Evaluate the model on the testing dataset\n",
    "test_loss, test_acc = model.evaluate(test_generator)\n",
    "print('Test loss:', test_loss)\n",
    "print('Test accuracy:', test_acc)"
   ]
  },
  {
   "cell_type": "code",
   "execution_count": null,
   "id": "8549061a-b6d1-46c7-8632-4fc92d49e6a6",
   "metadata": {},
   "outputs": [],
   "source": [
    "import seaborn as sns\n",
    "from sklearn.metrics import confusion_matrix, f1_score, roc_curve, auc"
   ]
  },
  {
   "cell_type": "code",
   "execution_count": null,
   "id": "77bf4b88-68ce-45fa-a60f-ef0e2622f398",
   "metadata": {},
   "outputs": [],
   "source": [
    "from sklearn.metrics import confusion_matrix, ConfusionMatrixDisplay\n",
    "\n",
    "# Convert probabilities to categories\n",
    "y_pred_labels = np.argmax(y_pred, axis=1)\n",
    "class_labels = list(test_generator.class_indices.keys())\n",
    "\n",
    "# Compute the confusion matrix\n",
    "confusion = confusion_matrix(y_true, y_pred_labels)\n",
    "\n",
    "print(\"Confusion Matrix:\")\n",
    "print(confusion)\n",
    "\n",
    "# Visualize confusion matrix\n",
    "disp = ConfusionMatrixDisplay(confusion_matrix=confusion, display_labels=class_labels)\n",
    "disp.plot(cmap='viridis', values_format='d')\n",
    "plt.title('Confusion Matrix')\n",
    "plt.show()"
   ]
  },
  {
   "cell_type": "code",
   "execution_count": null,
   "id": "b32273af-8ae5-4005-968a-a22917ee7b0a",
   "metadata": {},
   "outputs": [],
   "source": [
    "from sklearn.metrics import precision_recall_curve, auc\n",
    "import matplotlib.pyplot as plt\n",
    "from sklearn.preprocessing import label_binarize\n",
    "\n",
    "# Binarize multi-category labels\n",
    "y_true_bin = label_binarize(y_true, classes=[0, 1, 2])  # 0, 1, 2是你的类别标签\n",
    "\n",
    "#Initialize drawing\n",
    "plt.figure(figsize=(8, 8))\n",
    "\n",
    "# Calculate precision-recall curve for each category\n",
    "for i in range(y_true_bin.shape[1]):\n",
    "    precision, recall, _ = precision_recall_curve(y_true_bin[:, i], y_pred[:, i])\n",
    "    pr_auc = auc(recall, precision)\n",
    "    plt.plot(recall, precision, label='Class {} (area = {:0.2f})'.format(i, pr_auc))\n",
    "\n",
    "# Draw legends, labels, etc.\n",
    "plt.xlabel('Recall')\n",
    "plt.ylabel('Precision')\n",
    "plt.title('Precision-Recall Curve for Each Class')\n",
    "plt.legend(loc='lower right')\n",
    "plt.show()"
   ]
  }
 ],
 "metadata": {
  "kernelspec": {
   "display_name": "Python 3 (ipykernel)",
   "language": "python",
   "name": "python3"
  },
  "language_info": {
   "codemirror_mode": {
    "name": "ipython",
    "version": 3
   },
   "file_extension": ".py",
   "mimetype": "text/x-python",
   "name": "python",
   "nbconvert_exporter": "python",
   "pygments_lexer": "ipython3",
   "version": "3.8.10"
  }
 },
 "nbformat": 4,
 "nbformat_minor": 5
}
