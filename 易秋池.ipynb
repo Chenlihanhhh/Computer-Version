{
 "cells": [
  {
   "cell_type": "code",
   "execution_count": 2,
   "id": "12483e63",
   "metadata": {},
   "outputs": [],
   "source": [
    "#import libraries\n",
    "import os\n",
    "import numpy as np\n",
    "from keras.models import Model\n",
    "from keras.layers import Input, Conv2D, MaxPooling2D, Flatten,concatenate,GlobalAveragePooling2D, Reshape, Dense, multiply, Lambda, Dropout, MultiHeadAttention\n",
    "from keras.preprocessing.image import ImageDataGenerator\n",
    "from tensorflow.keras import layers\n",
    "import matplotlib.pyplot as plt\n",
    "from tensorflow.keras.optimizers import Adam\n",
    "import keras.backend as K\n",
    "import tensorflow as tf"
   ]
  },
  {
   "cell_type": "code",
   "execution_count": 3,
   "id": "3317f205",
   "metadata": {},
   "outputs": [],
   "source": [
    "# Data preparation\n",
    "dataset_dir= r'PlantVillage'\n",
    "input_shape=(224, 224, 3)\n",
    "batch_size=4\n",
    "num_classes=3"
   ]
  },
  {
   "cell_type": "code",
   "execution_count": 4,
   "id": "8454b786",
   "metadata": {},
   "outputs": [],
   "source": [
    "#Data augmentation\n",
    "train_datagen=ImageDataGenerator(\n",
    "    rescale=1./255,\n",
    "    shear_range=0.2,\n",
    "    zoom_range=0.2,\n",
    "    horizontal_flip=True,\n",
    "    validation_split=0.2\n",
    ")"
   ]
  },
  {
   "cell_type": "code",
   "execution_count": 5,
   "id": "f2a48fdf",
   "metadata": {},
   "outputs": [
    {
     "name": "stdout",
     "output_type": "stream",
     "text": [
      "Found 8665 images belonging to 3 classes.\n",
      "Found 2165 images belonging to 3 classes.\n",
      "Found 10831 images belonging to 3 classes.\n"
     ]
    }
   ],
   "source": [
    "test_datagen = ImageDataGenerator(rescale=1.0/255)\n",
    "\n",
    "#Generate the train dataset, validation dataset and test dataset\n",
    "train_generator=train_datagen.flow_from_directory(\n",
    "    os.path.join(dataset_dir, 'train'),\n",
    "    target_size=input_shape[:2],\n",
    "    batch_size=batch_size,\n",
    "    class_mode='categorical',\n",
    "    subset='training')\n",
    "\n",
    "validation_generator=train_datagen.flow_from_directory(\n",
    "    os.path.join(dataset_dir, 'train'),\n",
    "    target_size=input_shape[:2],\n",
    "    batch_size=batch_size,\n",
    "    class_mode='categorical', \n",
    "    shuffle=False,\n",
    "    subset='validation')\n",
    "\n",
    "test_generator=test_datagen.flow_from_directory(\n",
    "    os.path.join(dataset_dir, 'test'),\n",
    "    target_size=input_shape[:2],\n",
    "    batch_size=batch_size,\n",
    "    shuffle=False,\n",
    "    class_mode='categorical' \n",
    ")"
   ]
  },
  {
   "cell_type": "code",
   "execution_count": 6,
   "id": "7b28c957-a45b-49c8-ac7e-3ba60299dcf8",
   "metadata": {},
   "outputs": [],
   "source": [
    "def custom_loss(y_true, y_pred):\n",
    "    # Avoid dividing by zero and add a small constant\n",
    "    epsilon = 1e-15\n",
    "    y_pred = tf.clip_by_value(y_pred, epsilon, 1 - epsilon)\n",
    "\n",
    "    # Calculate categorical cross entropy loss\n",
    "    loss = -tf.reduce_sum(y_true * tf.math.log(y_pred + 1e-9)) / tf.cast(tf.shape(y_true)[0], dtype=tf.float32)\n",
    "\n",
    "    return loss"
   ]
  },
  {
   "cell_type": "code",
   "execution_count": 6,
   "id": "5ba54a6c",
   "metadata": {},
   "outputs": [],
   "source": [
    "def create_model1(inputs):\n",
    "    conv1 = Conv2D(64, (3, 3), activation='relu', padding='same')(inputs)\n",
    "    conv1 = Conv2D(64, (3, 3), activation='relu', padding='same')(conv1)\n",
    "    pool1 = MaxPooling2D(pool_size=(2, 2))(conv1)\n",
    "    \n",
    "    conv2 = Conv2D(128, (3, 3), activation='relu', padding='same')(pool1)\n",
    "    conv2 = Conv2D(128, (3, 3), activation='relu', padding='same')(conv2)\n",
    "    pool2 = MaxPooling2D(pool_size=(2, 2))(conv2)\n",
    "    \n",
    "   #Add self-attention mechanism\n",
    "    attention_output = MultiHeadAttention(num_heads=8, key_dim=16)(pool2, pool2)\n",
    "    attention_output = GlobalAveragePooling2D()(attention_output)\n",
    "    \n",
    "    model = Model(inputs=inputs, outputs=attention_output)\n",
    "    return model"
   ]
  },
  {
   "cell_type": "code",
   "execution_count": 7,
   "id": "18469c20",
   "metadata": {},
   "outputs": [],
   "source": [
    "def create_model2(inputs):\n",
    "    conv1 = Conv2D(32, (3, 3), activation='relu', padding='same')(inputs)\n",
    "    conv1 = Conv2D(32, (3, 3), activation='relu', padding='same')(conv1)\n",
    "    pool1 = MaxPooling2D(pool_size=(2, 2))(conv1)\n",
    "    \n",
    "    conv2 = Conv2D(64, (3, 3), activation='relu', padding='same')(pool1)\n",
    "    conv2 = Conv2D(64, (3, 3), activation='relu', padding='same')(conv2)\n",
    "    pool2 = MaxPooling2D(pool_size=(2, 2))(conv2)\n",
    "    x = GlobalAveragePooling2D()(pool2)\n",
    "    model = Model(inputs=inputs, outputs=x)\n",
    "    \n",
    "    return model"
   ]
  },
  {
   "cell_type": "code",
   "execution_count": 8,
   "id": "72b60c79",
   "metadata": {},
   "outputs": [],
   "source": [
    "def create_ensemble_model(input_shape):\n",
    "    input_layer = Input(shape=input_shape)\n",
    "\n",
    "    model1 = create_model1(input_layer)\n",
    "    model2 = create_model2(input_layer)\n",
    "    \n",
    "    # Combine the adjusted attention-applied output and model2\n",
    "    merged = concatenate([model1.output, model2.output])\n",
    "\n",
    "    output_layer = Dense(num_classes, activation='softmax')(merged)\n",
    "\n",
    "    model = Model(inputs=input_layer, outputs=output_layer)\n",
    "    return model"
   ]
  },
  {
   "cell_type": "code",
   "execution_count": 9,
   "id": "2a8a83d9",
   "metadata": {},
   "outputs": [],
   "source": [
    "# Define the input shape and number of classes\n",
    "input_shape = (224, 224, 3)\n",
    "num_classes = 3"
   ]
  },
  {
   "cell_type": "code",
   "execution_count": 10,
   "id": "6fd53649",
   "metadata": {},
   "outputs": [
    {
     "name": "stderr",
     "output_type": "stream",
     "text": [
      "2023-12-03 17:02:12.472605: I tensorflow/core/platform/cpu_feature_guard.cc:193] This TensorFlow binary is optimized with oneAPI Deep Neural Network Library (oneDNN) to use the following CPU instructions in performance-critical operations:  AVX2 FMA\n",
      "To enable them in other operations, rebuild TensorFlow with the appropriate compiler flags.\n"
     ]
    },
    {
     "name": "stdout",
     "output_type": "stream",
     "text": [
      "Model: \"model_2\"\n",
      "__________________________________________________________________________________________________\n",
      " Layer (type)                   Output Shape         Param #     Connected to                     \n",
      "==================================================================================================\n",
      " input_1 (InputLayer)           [(None, 224, 224, 3  0           []                               \n",
      "                                )]                                                                \n",
      "                                                                                                  \n",
      " conv2d (Conv2D)                (None, 224, 224, 64  1792        ['input_1[0][0]']                \n",
      "                                )                                                                 \n",
      "                                                                                                  \n",
      " conv2d_1 (Conv2D)              (None, 224, 224, 64  36928       ['conv2d[0][0]']                 \n",
      "                                )                                                                 \n",
      "                                                                                                  \n",
      " conv2d_4 (Conv2D)              (None, 224, 224, 32  896         ['input_1[0][0]']                \n",
      "                                )                                                                 \n",
      "                                                                                                  \n",
      " max_pooling2d (MaxPooling2D)   (None, 112, 112, 64  0           ['conv2d_1[0][0]']               \n",
      "                                )                                                                 \n",
      "                                                                                                  \n",
      " conv2d_5 (Conv2D)              (None, 224, 224, 32  9248        ['conv2d_4[0][0]']               \n",
      "                                )                                                                 \n",
      "                                                                                                  \n",
      " conv2d_2 (Conv2D)              (None, 112, 112, 12  73856       ['max_pooling2d[0][0]']          \n",
      "                                8)                                                                \n",
      "                                                                                                  \n",
      " max_pooling2d_2 (MaxPooling2D)  (None, 112, 112, 32  0          ['conv2d_5[0][0]']               \n",
      "                                )                                                                 \n",
      "                                                                                                  \n",
      " conv2d_3 (Conv2D)              (None, 112, 112, 12  147584      ['conv2d_2[0][0]']               \n",
      "                                8)                                                                \n",
      "                                                                                                  \n",
      " conv2d_6 (Conv2D)              (None, 112, 112, 64  18496       ['max_pooling2d_2[0][0]']        \n",
      "                                )                                                                 \n",
      "                                                                                                  \n",
      " max_pooling2d_1 (MaxPooling2D)  (None, 56, 56, 128)  0          ['conv2d_3[0][0]']               \n",
      "                                                                                                  \n",
      " conv2d_7 (Conv2D)              (None, 112, 112, 64  36928       ['conv2d_6[0][0]']               \n",
      "                                )                                                                 \n",
      "                                                                                                  \n",
      " multi_head_attention (MultiHea  (None, 56, 56, 128)  66048      ['max_pooling2d_1[0][0]',        \n",
      " dAttention)                                                      'max_pooling2d_1[0][0]']        \n",
      "                                                                                                  \n",
      " max_pooling2d_3 (MaxPooling2D)  (None, 56, 56, 64)  0           ['conv2d_7[0][0]']               \n",
      "                                                                                                  \n",
      " global_average_pooling2d (Glob  (None, 128)         0           ['multi_head_attention[0][0]']   \n",
      " alAveragePooling2D)                                                                              \n",
      "                                                                                                  \n",
      " global_average_pooling2d_1 (Gl  (None, 64)          0           ['max_pooling2d_3[0][0]']        \n",
      " obalAveragePooling2D)                                                                            \n",
      "                                                                                                  \n",
      " concatenate (Concatenate)      (None, 192)          0           ['global_average_pooling2d[0][0]'\n",
      "                                                                 , 'global_average_pooling2d_1[0][\n",
      "                                                                 0]']                             \n",
      "                                                                                                  \n",
      " dense (Dense)                  (None, 3)            579         ['concatenate[0][0]']            \n",
      "                                                                                                  \n",
      "==================================================================================================\n",
      "Total params: 392,355\n",
      "Trainable params: 392,355\n",
      "Non-trainable params: 0\n",
      "__________________________________________________________________________________________________\n"
     ]
    },
    {
     "name": "stderr",
     "output_type": "stream",
     "text": [
      "2023-12-03 17:02:13.007112: I tensorflow/core/common_runtime/gpu/gpu_device.cc:1532] Created device /job:localhost/replica:0/task:0/device:GPU:0 with 22307 MB memory:  -> device: 0, name: NVIDIA GeForce RTX 3090, pci bus id: 0000:c1:00.0, compute capability: 8.6\n"
     ]
    }
   ],
   "source": [
    "# Create the ensemble model\n",
    "ensemble_model = create_ensemble_model(input_shape)\n",
    "\n",
    "ensemble_model.summary()"
   ]
  },
  {
   "cell_type": "code",
   "execution_count": 11,
   "id": "0ad075a9",
   "metadata": {},
   "outputs": [],
   "source": [
    "# Compile and train the ensemble model\n",
    "ensemble_model.compile(loss=custom_loss, optimizer='adam', metrics=['accuracy'])"
   ]
  },
  {
   "cell_type": "code",
   "execution_count": 12,
   "id": "887b679f",
   "metadata": {},
   "outputs": [
    {
     "name": "stdout",
     "output_type": "stream",
     "text": [
      "Epoch 1/5\n"
     ]
    },
    {
     "name": "stderr",
     "output_type": "stream",
     "text": [
      "2023-12-03 17:02:15.239392: I tensorflow/stream_executor/cuda/cuda_dnn.cc:384] Loaded cuDNN version 8101\n",
      "2023-12-03 17:02:16.666376: I tensorflow/stream_executor/cuda/cuda_blas.cc:1786] TensorFloat-32 will be used for the matrix multiplication. This will only be logged once.\n"
     ]
    },
    {
     "name": "stdout",
     "output_type": "stream",
     "text": [
      "2167/2167 [==============================] - 169s 76ms/step - loss: 0.8372 - accuracy: 0.6250 - val_loss: 0.6989 - val_accuracy: 0.7035\n",
      "Epoch 2/5\n",
      "2167/2167 [==============================] - 163s 75ms/step - loss: 0.4750 - accuracy: 0.8174 - val_loss: 0.3129 - val_accuracy: 0.8859\n",
      "Epoch 3/5\n",
      "2167/2167 [==============================] - 164s 76ms/step - loss: 0.3776 - accuracy: 0.8571 - val_loss: 0.3409 - val_accuracy: 0.8734\n",
      "Epoch 4/5\n",
      "2167/2167 [==============================] - 163s 75ms/step - loss: 0.3229 - accuracy: 0.8809 - val_loss: 0.2957 - val_accuracy: 0.8887\n",
      "Epoch 5/5\n",
      "2167/2167 [==============================] - 163s 75ms/step - loss: 0.2620 - accuracy: 0.9029 - val_loss: 0.2485 - val_accuracy: 0.9155\n"
     ]
    }
   ],
   "source": [
    "#Train the model\n",
    "history=ensemble_model.fit(train_generator, epochs=5, validation_data=(validation_generator), verbose=1)"
   ]
  },
  {
   "cell_type": "code",
   "execution_count": 13,
   "id": "46be31a4-b6d8-4b4e-ad5e-443d36d43481",
   "metadata": {},
   "outputs": [
    {
     "name": "stdout",
     "output_type": "stream",
     "text": [
      "Model saved successfully at: my_model.h5\n"
     ]
    }
   ],
   "source": [
    "from tensorflow.keras.models import load_model\n",
    "\n",
    "# save model\n",
    "model_save_path = r'my_model.h5'\n",
    "\n",
    "try:\n",
    "    ensemble_model.save(model_save_path)\n",
    "    print(f\"Model saved successfully at: {model_save_path}\")\n",
    "except Exception as e:\n",
    "    print(f\"Error saving model: {e}\")"
   ]
  },
  {
   "cell_type": "code",
   "execution_count": 7,
   "id": "cc1332ac-b3e7-4863-9489-0cd5891cc784",
   "metadata": {},
   "outputs": [
    {
     "name": "stderr",
     "output_type": "stream",
     "text": [
      "2023-12-03 18:40:57.507110: I tensorflow/core/platform/cpu_feature_guard.cc:193] This TensorFlow binary is optimized with oneAPI Deep Neural Network Library (oneDNN) to use the following CPU instructions in performance-critical operations:  AVX2 FMA\n",
      "To enable them in other operations, rebuild TensorFlow with the appropriate compiler flags.\n",
      "2023-12-03 18:40:58.054625: I tensorflow/core/common_runtime/gpu/gpu_device.cc:1532] Created device /job:localhost/replica:0/task:0/device:GPU:0 with 22307 MB memory:  -> device: 0, name: NVIDIA GeForce RTX 3090, pci bus id: 0000:c1:00.0, compute capability: 8.6\n"
     ]
    }
   ],
   "source": [
    "from tensorflow.keras.models import load_model\n",
    "loaded_model = load_model('my_model.h5', custom_objects={'custom_loss': custom_loss})"
   ]
  },
  {
   "cell_type": "code",
   "execution_count": 15,
   "id": "90b78706-a5a0-4a2a-a5c9-fe4a78072d63",
   "metadata": {},
   "outputs": [
    {
     "data": {
      "image/png": "[encoded data removed]",
      "text/plain": [
       "<Figure size 288x288 with 1 Axes>"
      ]
     },
     "metadata": {
      "needs_background": "light"
     },
     "output_type": "display_data"
    }
   ],
   "source": [
    "#Training accuracy and validation accuracy graph\n",
    "plt.figure(figsize=(4,4))\n",
    "plt.plot(history.history['accuracy'])\n",
    "plt.plot(history.history['val_accuracy'])\n",
    "plt.title('Model Accuracy')\n",
    "plt.xlabel('Epoch')\n",
    "plt.ylabel('Accuracy')\n",
    "plt.legend(['Training Accuracy', 'Validation Accuracy'], loc ='lower right')\n",
    "plt.show()"
   ]
  },
  {
   "cell_type": "code",
   "execution_count": 16,
   "id": "ccd7d586-45e0-4794-97c6-f9798b5079ab",
   "metadata": {},
   "outputs": [
    {
     "data": {
      "image/png": "[encoded data removed]",
      "text/plain": [
       "<Figure size 288x288 with 1 Axes>"
      ]
     },
     "metadata": {
      "needs_background": "light"
     },
     "output_type": "display_data"
    }
   ],
   "source": [
    "#Trainig loss and validation loss graph\n",
    "plt.figure(figsize=(4,4))\n",
    "plt.plot(history.history['loss'])\n",
    "plt.plot(history.history['val_loss'])\n",
    "plt.title('Model Loss')\n",
    "plt.xlabel('Epoch')\n",
    "plt.ylabel('Loss')\n",
    "plt.legend(['Training Loss', 'Validation Loss'], loc ='upper right')\n",
    "plt.show()"
   ]
  },
  {
   "cell_type": "code",
   "execution_count": 17,
   "id": "02f2b5dd",
   "metadata": {},
   "outputs": [
    {
     "name": "stdout",
     "output_type": "stream",
     "text": [
      "2708/2708 [==============================] - 83s 31ms/step - loss: 0.2098 - accuracy: 0.9304\n",
      "Test loss: 0.20978926122188568\n",
      "Test accuracy: 0.9303849935531616\n"
     ]
    }
   ],
   "source": [
    "#Performance on test set\n",
    "test_loss, test_acc = ensemble_model.evaluate(test_generator)\n",
    "print('Test loss:', test_loss)\n",
    "print('Test accuracy:', test_acc)"
   ]
  },
  {
   "cell_type": "code",
   "execution_count": 8,
   "id": "2c573587-352d-4c36-b7e1-0e97ae57e6d5",
   "metadata": {},
   "outputs": [
    {
     "name": "stderr",
     "output_type": "stream",
     "text": [
      "2023-12-03 18:41:11.352680: I tensorflow/stream_executor/cuda/cuda_dnn.cc:384] Loaded cuDNN version 8101\n"
     ]
    },
    {
     "name": "stdout",
     "output_type": "stream",
     "text": [
      "   8/2708 [..............................] - ETA: 1:10"
     ]
    },
    {
     "name": "stderr",
     "output_type": "stream",
     "text": [
      "2023-12-03 18:41:12.872612: I tensorflow/stream_executor/cuda/cuda_blas.cc:1786] TensorFloat-32 will be used for the matrix multiplication. This will only be logged once.\n"
     ]
    },
    {
     "name": "stdout",
     "output_type": "stream",
     "text": [
      "2708/2708 [==============================] - 79s 28ms/step\n"
     ]
    }
   ],
   "source": [
    "# Get the prediction results of the model\n",
    "y_pred = loaded_model.predict(test_generator)\n",
    "y_true = test_generator.classes"
   ]
  },
  {
   "cell_type": "code",
   "execution_count": 9,
   "id": "495c4d02-b9c9-41b9-a13a-bb7624a7b91c",
   "metadata": {},
   "outputs": [
    {
     "name": "stdout",
     "output_type": "stream",
     "text": [
      "Confusion Matrix:\n",
      "[[2413   55    8]\n",
      " [ 218 1742  192]\n",
      " [ 191   90 5922]]\n"
     ]
    },
    {
     "data": {
      "image/png": "[encoded data removed]",
      "text/plain": [
       "<Figure size 432x288 with 2 Axes>"
      ]
     },
     "metadata": {
      "needs_background": "light"
     },
     "output_type": "display_data"
    }
   ],
   "source": [
    "from sklearn.metrics import confusion_matrix, ConfusionMatrixDisplay\n",
    "\n",
    "# Convert probabilities to categories\n",
    "y_pred_labels = np.argmax(y_pred, axis=1)\n",
    "class_labels = list(test_generator.class_indices.keys())\n",
    "\n",
    "# Compute the confusion matrix\n",
    "confusion = confusion_matrix(y_true, y_pred_labels)\n",
    "\n",
    "print(\"Confusion Matrix:\")\n",
    "print(confusion)\n",
    "\n",
    "# Visualize confusion matrix\n",
    "disp = ConfusionMatrixDisplay(confusion_matrix=confusion, display_labels=class_labels)\n",
    "disp.plot(cmap='viridis', values_format='d')\n",
    "plt.title('Confusion Matrix')\n",
    "plt.show()"
   ]
  },
  {
   "cell_type": "code",
   "execution_count": 10,
   "id": "5f161667-7b1f-4292-9fed-9c02ab57d454",
   "metadata": {},
   "outputs": [
    {
     "name": "stdout",
     "output_type": "stream",
     "text": [
      "F1-score (micro): 0.9303850060012926\n",
      "F1-score (macro): 0.9114910526813965\n",
      "F1-score (weighted): 0.9299810896913491\n"
     ]
    }
   ],
   "source": [
    "# Import necessary libraries\n",
    "from sklearn.metrics import f1_score\n",
    "\n",
    "# Assuming y_true and y_pred_labels are defined\n",
    "\n",
    "# Compute the F1 score (micro)\n",
    "f1_micro = f1_score(y_true, y_pred_labels, average='micro')\n",
    "print('F1-score (micro):', f1_micro)\n",
    "\n",
    "# Compute the F1 score (macro)\n",
    "f1_macro = f1_score(y_true, y_pred_labels, average='macro')\n",
    "print('F1-score (macro):', f1_macro)\n",
    "\n",
    "# Compute the F1 score (weighted)\n",
    "f1_weighted = f1_score(y_true, y_pred_labels, average='weighted')\n",
    "print('F1-score (weighted):', f1_weighted)"
   ]
  },
  {
   "cell_type": "code",
   "execution_count": 11,
   "id": "3fb5cc88-bd49-453c-b8ca-64e56ed3706d",
   "metadata": {},
   "outputs": [
    {
     "data": {
      "image/png": "[encoded data removed]",
      "text/plain": [
       "<Figure size 576x576 with 1 Axes>"
      ]
     },
     "metadata": {
      "needs_background": "light"
     },
     "output_type": "display_data"
    }
   ],
   "source": [
    "from sklearn.metrics import precision_recall_curve, auc\n",
    "import matplotlib.pyplot as plt\n",
    "from sklearn.preprocessing import label_binarize\n",
    "\n",
    "# Binarize multi-category labels\n",
    "y_true_bin = label_binarize(y_true, classes=[0, 1, 2])  # 0, 1, 2是你的类别标签\n",
    "\n",
    "#Initialize drawing\n",
    "plt.figure(figsize=(8, 8))\n",
    "\n",
    "# Calculate precision-recall curve for each category\n",
    "for i in range(y_true_bin.shape[1]):\n",
    "    precision, recall, _ = precision_recall_curve(y_true_bin[:, i], y_pred[:, i])\n",
    "    pr_auc = auc(recall, precision)\n",
    "    plt.plot(recall, precision, label='Class {} (area = {:0.2f})'.format(i, pr_auc))\n",
    "\n",
    "# Draw legends, labels, etc.\n",
    "plt.xlabel('Recall')\n",
    "plt.ylabel('Precision')\n",
    "plt.title('Precision-Recall Curve for Each Class')\n",
    "plt.legend(loc='lower right')\n",
    "plt.show()\n"
   ]
  },
  {
   "cell_type": "code",
   "execution_count": 12,
   "id": "1a20acf2-f5ab-4d07-a162-2557f562dded",
   "metadata": {},
   "outputs": [
    {
     "name": "stdout",
     "output_type": "stream",
     "text": [
      "Class Pepper Sensitivity: 0.9746\n",
      "Class Pepper Specificity: 0.9510\n",
      "Class Potato Sensitivity: 0.8095\n",
      "Class Potato Specificity: 0.9833\n",
      "Class Tomato Sensitivity: 0.9547\n",
      "Class Tomato Specificity: 0.9568\n",
      "Overall Sensitivity: 0.9129\n",
      "Overall Specificity: 0.9637\n"
     ]
    }
   ],
   "source": [
    "\n",
    "# Initialize variables to store overall sensitivity and specificity\n",
    "overall_sensitivity = 0\n",
    "overall_specificity = 0\n",
    "\n",
    "# Loop through each class\n",
    "for i, class_label in enumerate(class_labels):\n",
    "    # Extract TP, FP, FN, and TN for the current class\n",
    "    TP = confusion[i, i]\n",
    "    FP = sum(confusion[:, i]) - TP\n",
    "    FN = sum(confusion[i, :]) - TP\n",
    "    TN = sum(sum(confusion)) - TP - FP - FN\n",
    "    \n",
    "    # Compute sensitivity and specificity for the current class\n",
    "    sensitivity = TP / (TP + FN) if (TP + FN) != 0 else 0\n",
    "    specificity = TN / (TN + FP) if (TN + FP) != 0 else 0\n",
    "    \n",
    "    # Print or store sensitivity and specificity for the current class\n",
    "    print(f'Class {class_label} Sensitivity: {sensitivity:.4f}')\n",
    "    print(f'Class {class_label} Specificity: {specificity:.4f}')\n",
    "    \n",
    "    # Accumulate sensitivity and specificity for overall calculation\n",
    "    overall_sensitivity += sensitivity\n",
    "    overall_specificity += specificity\n",
    "\n",
    "# Calculate overall sensitivity and specificity\n",
    "num_classes = len(class_labels)\n",
    "overall_sensitivity /= num_classes\n",
    "overall_specificity /= num_classes\n",
    "\n",
    "# Print or store overall sensitivity and specificity\n",
    "print(f'Overall Sensitivity: {overall_sensitivity:.4f}')\n",
    "print(f'Overall Specificity: {overall_specificity:.4f}')\n"
   ]
  },
  {
   "cell_type": "code",
   "execution_count": 23,
   "id": "c11292e3",
   "metadata": {},
   "outputs": [],
   "source": [
    "from keras import backend as K\n",
    "import gc\n",
    "\n",
    "K.clear_session()\n",
    "gc.collect()\n",
    "\n",
    "del ensemble_model"
   ]
  },
  {
   "cell_type": "code",
   "execution_count": 24,
   "id": "1e72dce1",
   "metadata": {},
   "outputs": [],
   "source": [
    "from numba import cuda\n",
    "\n",
    "cuda.select_device(0)\n",
    "cuda.close()"
   ]
  },
  {
   "cell_type": "code",
   "execution_count": null,
   "id": "af8e572a-681c-4282-a7d5-78b752c192aa",
   "metadata": {},
   "outputs": [],
   "source": []
  }
 ],
 "metadata": {
  "kernelspec": {
   "display_name": "Python 3 (ipykernel)",
   "language": "python",
   "name": "python3"
  },
  "language_info": {
   "codemirror_mode": {
    "name": "ipython",
    "version": 3
   },
   "file_extension": ".py",
   "mimetype": "text/x-python",
   "name": "python",
   "nbconvert_exporter": "python",
   "pygments_lexer": "ipython3",
   "version": "3.8.0"
  }
 },
 "nbformat": 4,
 "nbformat_minor": 5
}
