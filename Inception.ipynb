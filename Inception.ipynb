{
 "cells": [
  {
   "cell_type": "code",
   "execution_count": null,
   "id": "9f372695-57d6-4f35-8c70-a93060d91e89",
   "metadata": {},
   "outputs": [],
   "source": [
    "import os\n",
    "from keras.models import Model\n",
    "from keras.layers import Input, Conv2D, BatchNormalization, Activation, Concatenate\n",
    "from keras.layers import GlobalAveragePooling2D, Dense, MaxPooling2D\n",
    "from keras.preprocessing.image import ImageDataGenerator\n",
    "import matplotlib.pyplot as plt"
   ]
  },
  {
   "cell_type": "code",
   "execution_count": null,
   "id": "d0f475e8-aa6b-43a9-b07e-9c5fa786ec54",
   "metadata": {},
   "outputs": [],
   "source": [
    "# Data preparation\n",
    "dataset_dir= 'TNB_split'\n",
    "input_shape=(224, 224, 3)\n",
    "batch_size=8\n",
    "num_classes=5"
   ]
  },
  {
   "cell_type": "code",
   "execution_count": null,
   "id": "7542e188-4f5b-4e0e-9c82-583497ce1436",
   "metadata": {},
   "outputs": [],
   "source": [
    "#Data augmentation\n",
    "train_datagen=ImageDataGenerator(\n",
    "    rescale=1./255,\n",
    "    shear_range=0.2,\n",
    "    zoom_range=0.2,\n",
    "    horizontal_flip=True)\n",
    "\n",
    "test_datagen=ImageDataGenerator(\n",
    "    rescale=1./255)"
   ]
  },
  {
   "cell_type": "code",
   "execution_count": null,
   "id": "00969d1d-b76b-41b2-a482-2e877edd2d17",
   "metadata": {},
   "outputs": [],
   "source": [
    "#Generate the train dataset, validation dataset and test dataset\n",
    "train_generator=train_datagen.flow_from_directory(\n",
    "    os.path.join(dataset_dir, 'train'),\n",
    "    target_size=input_shape[:2],\n",
    "    batch_size=batch_size,\n",
    "    class_mode='categorical', #skin has two classes: benign and malignant\n",
    "    )\n",
    "\n",
    "validation_generator=train_datagen.flow_from_directory(\n",
    "    os.path.join(dataset_dir, 'val'),\n",
    "    target_size=input_shape[:2],\n",
    "    batch_size=batch_size,\n",
    "    class_mode='categorical', #skin has two classes: benign and malignant\n",
    "    )\n",
    "\n",
    "test_generator=test_datagen.flow_from_directory(\n",
    "    os.path.join(dataset_dir, 'test'),\n",
    "    target_size=input_shape[:2],\n",
    "    batch_size=batch_size,\n",
    "    class_mode='categorical', #skin has two classes: benign and malignant\n",
    "    )"
   ]
  },
  {
   "cell_type": "code",
   "execution_count": null,
   "id": "62a85d22-4804-4895-8a43-cf8b921c558e",
   "metadata": {},
   "outputs": [],
   "source": [
    "def inception_block(inputs, filters):\n",
    "    branch1 = Conv2D(filters[0], (1, 1), padding='same', activation='relu')(inputs)\n",
    "    branch1 = Conv2D(filters[1], (3, 3), padding='same', activation='relu')(branch1)\n",
    "\n",
    "    branch2 = Conv2D(filters[2], (1, 1), padding='same', activation='relu')(inputs)\n",
    "    branch2 = Conv2D(filters[3], (5, 5), padding='same', activation='relu')(branch2)\n",
    "\n",
    "    branch3 = MaxPooling2D((3, 3), strides=(1, 1), padding='same')(inputs)\n",
    "    branch3 = Conv2D(filters[4], (1, 1), padding='same', activation='relu')(branch3)\n",
    "\n",
    "    branch4 = Conv2D(filters[5], (1, 1), padding='same', activation='relu')(inputs)\n",
    "\n",
    "    output = Concatenate(axis=-1)([branch1, branch2, branch3, branch4])\n",
    "    return output"
   ]
  },
  {
   "cell_type": "code",
   "execution_count": null,
   "id": "f9e6a7c3-726d-4e5c-8e77-cebd40202a48",
   "metadata": {},
   "outputs": [],
   "source": [
    "def InceptionModel(input_shape, num_classes):\n",
    "    inputs = Input(shape=input_shape)\n",
    "\n",
    "    # Initial Convolution layer\n",
    "    x = Conv2D(32, (3, 3), padding='same', activation='relu')(inputs)\n",
    "\n",
    "    # Inception Blocks\n",
    "    x = inception_block(x, [16, 32, 8, 16, 8, 16])\n",
    "    x = inception_block(x, [32, 64, 16, 32, 16, 32])\n",
    "    x = MaxPooling2D((3, 3), strides=(1, 1), padding='same')(x)\n",
    "    x = inception_block(x, [64, 128, 32, 64, 32, 64])\n",
    "    x = inception_block(x, [128, 256, 64, 128, 64, 128])\n",
    "    x = GlobalAveragePooling2D()(x)\n",
    "    x = Dense(512, activation='relu')(x)\n",
    "\n",
    "    outputs = Dense(num_classes, activation='sigmoid')(x)\n",
    "\n",
    "    model = Model(inputs=inputs, outputs=outputs)\n",
    "    return model"
   ]
  },
  {
   "cell_type": "code",
   "execution_count": null,
   "id": "c3060948-6fcd-48b1-a79a-3acb21260af3",
   "metadata": {},
   "outputs": [],
   "source": [
    "model = InceptionModel(input_shape, num_classes)"
   ]
  },
  {
   "cell_type": "code",
   "execution_count": null,
   "id": "8808e0f8-a2c3-4a75-9bf0-e77555221e25",
   "metadata": {},
   "outputs": [],
   "source": [
    "model.compile(loss='categorical_crossentropy', optimizer='adam', metrics=['accuracy'])"
   ]
  },
  {
   "cell_type": "code",
   "execution_count": null,
   "id": "a9250e4f-52aa-4121-9d90-6180686abf99",
   "metadata": {},
   "outputs": [],
   "source": [
    "history = model.fit(train_generator, epochs=2, validation_data=validation_generator, verbose=1)"
   ]
  },
  {
   "cell_type": "code",
   "execution_count": null,
   "id": "da352fc8-3585-4826-ad6c-f6365c492f70",
   "metadata": {},
   "outputs": [],
   "source": [
    "plt.figure(figsize=(10, 5))\n",
    "plt.plot(history.history['accuracy'])\n",
    "plt.plot(history.history['val_accuracy'])\n",
    "plt.title('Model Accuracy')\n",
    "plt.ylabel('Accuracy')\n",
    "plt.xlabel('Epoch')\n",
    "plt.legend(['Training', 'Validation'], loc='lower right')\n",
    "plt.show()"
   ]
  },
  {
   "cell_type": "code",
   "execution_count": null,
   "id": "7b8c1adc-a4e0-4fa1-9757-34b2bc5068b5",
   "metadata": {},
   "outputs": [],
   "source": [
    "plt.figure(figsize=(10, 5))\n",
    "plt.plot(history.history['loss'])\n",
    "plt.plot(history.history['val_loss'])\n",
    "plt.title('Model Loss')\n",
    "plt.ylabel('Loss')\n",
    "plt.xlabel('Epoch')\n",
    "plt.legend(['Training', 'Validation'], loc='upper right')\n",
    "plt.show()"
   ]
  },
  {
   "cell_type": "code",
   "execution_count": null,
   "id": "9521ad35-3d44-4724-bb44-810e5458bfd8",
   "metadata": {},
   "outputs": [],
   "source": [
    "test_loss, test_accuracy = model.evaluate(test_generator)\n",
    "print('Test Loss:', test_loss)\n",
    "print('Test Accuracy:', test_accuracy)"
   ]
  },
  {
   "cell_type": "code",
   "execution_count": null,
   "id": "3a8938bf-4cb0-48b0-af57-35d94725f7ee",
   "metadata": {},
   "outputs": [],
   "source": [
    "from keras import backend as K\n",
    "import gc"
   ]
  },
  {
   "cell_type": "code",
   "execution_count": null,
   "id": "c6c826e7-f17c-479d-9ae7-5ca9be325001",
   "metadata": {},
   "outputs": [],
   "source": [
    "K.clear_session()\n",
    "gc.collect()"
   ]
  },
  {
   "cell_type": "code",
   "execution_count": null,
   "id": "d9f6aa53-8186-4b67-b16f-a088c2715ffe",
   "metadata": {},
   "outputs": [],
   "source": [
    "del model"
   ]
  },
  {
   "cell_type": "code",
   "execution_count": null,
   "id": "c88b21fe-bc00-473e-b95c-7484392749c7",
   "metadata": {},
   "outputs": [],
   "source": [
    "# you will need to install numba using \"pip install numba\"\n",
    "from numba import cuda"
   ]
  },
  {
   "cell_type": "code",
   "execution_count": null,
   "id": "8bed9c0d-a046-45d2-80e8-1e6826dd5eeb",
   "metadata": {},
   "outputs": [],
   "source": [
    "cuda.select_device(0)\n",
    "cuda.close()"
   ]
  }
 ],
 "metadata": {
  "kernelspec": {
   "display_name": "Python 3 (ipykernel)",
   "language": "python",
   "name": "python3"
  },
  "language_info": {
   "codemirror_mode": {
    "name": "ipython",
    "version": 3
   },
   "file_extension": ".py",
   "mimetype": "text/x-python",
   "name": "python",
   "nbconvert_exporter": "python",
   "pygments_lexer": "ipython3",
   "version": "3.8.10"
  }
 },
 "nbformat": 4,
 "nbformat_minor": 5
}
